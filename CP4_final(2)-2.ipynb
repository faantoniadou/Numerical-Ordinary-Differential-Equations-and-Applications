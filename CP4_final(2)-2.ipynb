{
 "cells": [
  {
   "cell_type": "markdown",
   "metadata": {},
   "source": [
    "# Numerical Ordinary Differential Equations and Applications\n",
    "\n",
    "\n",
    "## Computer Project assignment  4: Van der Pol Oscillator\n",
    "\n",
    "D. J. Higham and H. Yorston, \n",
    "School of Mathematics, University of Edinburgh, March 2021\n"
   ]
  },
  {
   "cell_type": "markdown",
   "metadata": {},
   "source": []
  },
  {
   "cell_type": "code",
   "execution_count": 1,
   "metadata": {},
   "outputs": [],
   "source": [
    "# Import the required modules\n",
    "import numpy as np                # scientific library\n",
    "import matplotlib.pyplot as plt   # for creating plots\n",
    "from scipy.integrate import solve_ivp\n",
    "%matplotlib inline"
   ]
  },
  {
   "cell_type": "markdown",
   "metadata": {},
   "source": [
    "In this final computer project assignment we will investigate the Van der Pol Oscillator. This is a template Jupyter notebook that introduces the ODE system and sets the four tasks that make up the assignment. In order to complete the assignment, you must perform the four tasks by adding Python code to this notebook.\n",
    "The figures that you produce should have labeled axes, a title, and where appropriate, a legend to distinguish between plots.\n",
    "To submit your completed work (a) create a pdf version of the notebook when all cells have been run (on a Mac/Safari system this may be done via \"File\", \"Print Preview\" and \"Export as PDF\"), (b) submit both the .ipynb and .pdf versions\" electronically on Learn. Hence, you are asked to submit two files: a Jupyter notebook and the corresponding pdf version. If there is any inconsistency between the two files, we will regard the .ipynb version as your definitive submission. Make sure that your name is clearly indicated at the top of the notebook.\n",
    "The deadline is **midday on Monday 22nd March** and, as for all continuous assessment in this course, there are no extensions and standard University of Edinburgh penalties apply for late submissions."
   ]
  },
  {
   "cell_type": "markdown",
   "metadata": {},
   "source": [
    "For these tasks you <b>must</b> use the <b>solve_ivp</b> command from the <b>scipy.integrate</b> library of routines. This built-in ODE solver was also used in CP3."
   ]
  },
  {
   "cell_type": "markdown",
   "metadata": {},
   "source": [
    "### Background\n",
    "\n",
    "The Van der Pol ODE was derived by Balthasar Van der Pol as a model for electrical circuits in vacuum tubes. It is also used as a model in biology and seismology - see \n",
    "https://en.wikipedia.org/wiki/Van_der_Pol_oscillator \n",
    "and Van der Pol, B. and Van der Mark, J., “Frequency demultiplication”, Nature, 120, 363–364, (1927).\n",
    "\n",
    "The model takes the form of a second order ODE for the scalar quantity $y(t)$: \n",
    "\\begin{equation}\n",
    "\\frac{d^2y}{dt^2} +\\mu(y^2 -1)\\frac{dy}{dt} + y =0.\n",
    "\\end{equation}\n",
    "The parameter $\\mu > 0 $ controls the strength of the nonlinear damping. In this system, energy is lost when $|y(t)|>1$ and energy is absorbed when $|y(t)|<1$, which intuitively suggests that the solution may oscillate.     \n",
    "\n",
    "We may convert the model into a first order ODE system by letting $y(t)$ be $y_1(t)$ and setting $y_1'(t) = y_2(t)$. Hence, in the tasks below we will solve the Van der Pol model as an autonomous ODE system with two components:\n",
    "\\begin{eqnarray*}\n",
    "\\frac{dy_1}{dt} &=& y_2\\\\\n",
    "\\frac{dy_2}{dt} &=& \\mu(1 - y_1^2)y_2 - y_1.\n",
    "\\end{eqnarray*}"
   ]
  },
  {
   "cell_type": "markdown",
   "metadata": {},
   "source": [
    "### Task 1\n",
    "[7 marks]\n",
    "\n",
    "Consider the parameter value $\\mu = 1$, initial condition and $y_1(0) = 2$ and $y_2(0) = 1$, and time interval $0 \\le t \\le 50$. Solve the first order autonomous ODE system above \n",
    "with the <b>solve_ivp</b> command from the <b>scipy.integrate</b> library of routines. (This solver was also used in CP3.) Use the \"Radau\" integration method, with dense_output = True and the default relative and absolute error tolerances.\n",
    "\n",
    "(a)\n",
    "Produce a plot with the original variable $y(t) = y_1(t)$ on the vertical axis against $t$ on the horizontal axis. \n",
    "\n",
    "(b)\n",
    "In a separate figure, give a phase plane plot with $y_2(t)$ on the vertical axis against $y_1(t)$ on the horizontal axis. "
   ]
  },
  {
   "cell_type": "code",
   "execution_count": 2,
   "metadata": {},
   "outputs": [],
   "source": [
    "#one or more code cell here for Task 1\n",
    "      "
   ]
  },
  {
   "cell_type": "markdown",
   "metadata": {},
   "source": [
    "### Task 2\n",
    "[4 marks]\n",
    "\n",
    "It is known that the Van der Pol ODE may produce a *limit cycle*: here, as time increases the trajectory is attracted to a fixed curve in phase space. This should be apparent in your phase plane plot in Task 1. In this task we will confirm that the limit cycle attracts trajectories from a range of different initial conditions.\n",
    "\n",
    "Repeat your experiment in Task 1 (b) with the initial condition changed to $y_1(0) = b$ and $y_2(0) = b$ for the five cases $b = 0.1,0.3,1.0,2.0,2.5$.\n",
    "\n",
    "Show the five phase plane plots in a single figure.\n"
   ]
  },
  {
   "cell_type": "code",
   "execution_count": 3,
   "metadata": {
    "scrolled": true
   },
   "outputs": [],
   "source": [
    "#one or more code cell here for Task 2"
   ]
  },
  {
   "cell_type": "markdown",
   "metadata": {},
   "source": [
    "### Task 3\n",
    "[3 marks]\n",
    "\n",
    "In this task we will observe how the limit cycle varies with the parameter $\\mu$.\n",
    "\n",
    "Repeat your experiment in Task 1 (b) (using initial condition $y_1(0) = 2$ and $y_2(0) = 1$) \n",
    "with parameter values $\\mu = 0.2, 0.4, 0.6, 0.8, 1.0, 1.2, 1.4, 1.6, 1.8, 2.0$.\n",
    "\n",
    "In each case, plot, in the phase plane, the trajectory over the final half of the time period.\n",
    "Show the ten plots in a single figure."
   ]
  },
  {
   "cell_type": "code",
   "execution_count": 4,
   "metadata": {},
   "outputs": [],
   "source": [
    "#one or more code cell here for Task 3"
   ]
  },
  {
   "cell_type": "markdown",
   "metadata": {},
   "source": [
    "### Task 4\n",
    "[1 mark]\n",
    "\n",
    "Repeat the experiment in Task 3 with the relative and absolute error tolerances set as\n",
    "rtol = 1e-7 and atol = 1e-7. (You should see smoother curves in your new figure.)\n"
   ]
  },
  {
   "cell_type": "code",
   "execution_count": 5,
   "metadata": {},
   "outputs": [],
   "source": [
    "#one or more code cell here for Task 4"
   ]
  },
  {
   "cell_type": "code",
   "execution_count": null,
   "metadata": {},
   "outputs": [],
   "source": []
  }
 ],
 "metadata": {
  "kernelspec": {
   "display_name": "Python 3",
   "language": "python",
   "name": "python3"
  },
  "language_info": {
   "codemirror_mode": {
    "name": "ipython",
    "version": 3
   },
   "file_extension": ".py",
   "mimetype": "text/x-python",
   "name": "python",
   "nbconvert_exporter": "python",
   "pygments_lexer": "ipython3",
   "version": "3.7.4"
  }
 },
 "nbformat": 4,
 "nbformat_minor": 2
}
